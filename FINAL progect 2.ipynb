{
 "cells": [
  {
   "cell_type": "markdown",
   "id": "3e75661c",
   "metadata": {},
   "source": [
    "# We will be analyzing the movies dataset\n",
    "-----------------------------------------"
   ]
  },
  {
   "cell_type": "markdown",
   "id": "1df894de",
   "metadata": {},
   "source": [
    "First , importing required libraries"
   ]
  },
  {
   "cell_type": "code",
   "execution_count": 1,
   "id": "e36b8323",
   "metadata": {},
   "outputs": [],
   "source": [
    "import pandas as pd\n",
    "import numpy as np\n",
    "import matplotlib as plt\n",
    "from collections import Counter\n",
    "import seaborn as sns\n",
    "import matplotlib.pyplot as plt\n",
    "import warnings  #to ignore warnings that pop up\n",
    "warnings.filterwarnings('ignore')"
   ]
  },
  {
   "cell_type": "markdown",
   "id": "2e045724",
   "metadata": {},
   "source": [
    "Then , loading the dataset"
   ]
  },
  {
   "cell_type": "code",
   "execution_count": 2,
   "id": "4da01b0b",
   "metadata": {},
   "outputs": [
    {
     "data": {
      "text/html": [
       "<div>\n",
       "<style scoped>\n",
       "    .dataframe tbody tr th:only-of-type {\n",
       "        vertical-align: middle;\n",
       "    }\n",
       "\n",
       "    .dataframe tbody tr th {\n",
       "        vertical-align: top;\n",
       "    }\n",
       "\n",
       "    .dataframe thead th {\n",
       "        text-align: right;\n",
       "    }\n",
       "</style>\n",
       "<table border=\"1\" class=\"dataframe\">\n",
       "  <thead>\n",
       "    <tr style=\"text-align: right;\">\n",
       "      <th></th>\n",
       "      <th>id</th>\n",
       "      <th>imdb_id</th>\n",
       "      <th>popularity</th>\n",
       "      <th>budget</th>\n",
       "      <th>revenue</th>\n",
       "      <th>original_title</th>\n",
       "      <th>cast</th>\n",
       "      <th>homepage</th>\n",
       "      <th>director</th>\n",
       "      <th>tagline</th>\n",
       "      <th>...</th>\n",
       "      <th>overview</th>\n",
       "      <th>runtime</th>\n",
       "      <th>genres</th>\n",
       "      <th>production_companies</th>\n",
       "      <th>release_date</th>\n",
       "      <th>vote_count</th>\n",
       "      <th>vote_average</th>\n",
       "      <th>release_year</th>\n",
       "      <th>budget_adj</th>\n",
       "      <th>revenue_adj</th>\n",
       "    </tr>\n",
       "  </thead>\n",
       "  <tbody>\n",
       "    <tr>\n",
       "      <th>0</th>\n",
       "      <td>135397</td>\n",
       "      <td>tt0369610</td>\n",
       "      <td>32.985763</td>\n",
       "      <td>150000000</td>\n",
       "      <td>1513528810</td>\n",
       "      <td>Jurassic World</td>\n",
       "      <td>Chris Pratt|Bryce Dallas Howard|Irrfan Khan|Vi...</td>\n",
       "      <td>http://www.jurassicworld.com/</td>\n",
       "      <td>Colin Trevorrow</td>\n",
       "      <td>The park is open.</td>\n",
       "      <td>...</td>\n",
       "      <td>Twenty-two years after the events of Jurassic ...</td>\n",
       "      <td>124</td>\n",
       "      <td>Action|Adventure|Science Fiction|Thriller</td>\n",
       "      <td>Universal Studios|Amblin Entertainment|Legenda...</td>\n",
       "      <td>6/9/15</td>\n",
       "      <td>5562</td>\n",
       "      <td>6.5</td>\n",
       "      <td>2015</td>\n",
       "      <td>1.379999e+08</td>\n",
       "      <td>1.392446e+09</td>\n",
       "    </tr>\n",
       "    <tr>\n",
       "      <th>1</th>\n",
       "      <td>76341</td>\n",
       "      <td>tt1392190</td>\n",
       "      <td>28.419936</td>\n",
       "      <td>150000000</td>\n",
       "      <td>378436354</td>\n",
       "      <td>Mad Max: Fury Road</td>\n",
       "      <td>Tom Hardy|Charlize Theron|Hugh Keays-Byrne|Nic...</td>\n",
       "      <td>http://www.madmaxmovie.com/</td>\n",
       "      <td>George Miller</td>\n",
       "      <td>What a Lovely Day.</td>\n",
       "      <td>...</td>\n",
       "      <td>An apocalyptic story set in the furthest reach...</td>\n",
       "      <td>120</td>\n",
       "      <td>Action|Adventure|Science Fiction|Thriller</td>\n",
       "      <td>Village Roadshow Pictures|Kennedy Miller Produ...</td>\n",
       "      <td>5/13/15</td>\n",
       "      <td>6185</td>\n",
       "      <td>7.1</td>\n",
       "      <td>2015</td>\n",
       "      <td>1.379999e+08</td>\n",
       "      <td>3.481613e+08</td>\n",
       "    </tr>\n",
       "  </tbody>\n",
       "</table>\n",
       "<p>2 rows × 21 columns</p>\n",
       "</div>"
      ],
      "text/plain": [
       "       id    imdb_id  popularity     budget     revenue      original_title  \\\n",
       "0  135397  tt0369610   32.985763  150000000  1513528810      Jurassic World   \n",
       "1   76341  tt1392190   28.419936  150000000   378436354  Mad Max: Fury Road   \n",
       "\n",
       "                                                cast  \\\n",
       "0  Chris Pratt|Bryce Dallas Howard|Irrfan Khan|Vi...   \n",
       "1  Tom Hardy|Charlize Theron|Hugh Keays-Byrne|Nic...   \n",
       "\n",
       "                        homepage         director             tagline  ...  \\\n",
       "0  http://www.jurassicworld.com/  Colin Trevorrow   The park is open.  ...   \n",
       "1    http://www.madmaxmovie.com/    George Miller  What a Lovely Day.  ...   \n",
       "\n",
       "                                            overview runtime  \\\n",
       "0  Twenty-two years after the events of Jurassic ...     124   \n",
       "1  An apocalyptic story set in the furthest reach...     120   \n",
       "\n",
       "                                      genres  \\\n",
       "0  Action|Adventure|Science Fiction|Thriller   \n",
       "1  Action|Adventure|Science Fiction|Thriller   \n",
       "\n",
       "                                production_companies release_date vote_count  \\\n",
       "0  Universal Studios|Amblin Entertainment|Legenda...       6/9/15       5562   \n",
       "1  Village Roadshow Pictures|Kennedy Miller Produ...      5/13/15       6185   \n",
       "\n",
       "   vote_average  release_year    budget_adj   revenue_adj  \n",
       "0           6.5          2015  1.379999e+08  1.392446e+09  \n",
       "1           7.1          2015  1.379999e+08  3.481613e+08  \n",
       "\n",
       "[2 rows x 21 columns]"
      ]
     },
     "execution_count": 2,
     "metadata": {},
     "output_type": "execute_result"
    }
   ],
   "source": [
    "df=pd.read_csv(\"tmdb-movies.csv\")\n",
    "df.head(2)"
   ]
  },
  {
   "cell_type": "markdown",
   "id": "32827bc6",
   "metadata": {},
   "source": [
    "Questions about the dataset\n",
    "\n",
    "   1-How many samples we have in our data\n",
    "   \n",
    "   2-How many null values we have\n",
    "   \n",
    "   3-How many columns with null values\n",
    "   \n",
    "   4-How many duplicates in our data\n",
    "   \n",
    "   5-Are there any outliers and how to deal with it\n",
    "   \n",
    "   5-How many samples remained after cleaning our data\n",
    "   \n",
    "   6-What is the correlation between  popularity and revenue. show it. \n",
    "   \n",
    "   7-Visualize correlation between columns.\n",
    "   \n",
    "   8-Does the month the movie released in help with gaining more revenue. show it.\n",
    "   \n",
    "   9-Directors with largest number of movies?.show it.\n",
    "   \n",
    "   10-Actors who've been in the most movies?.show it\n",
    "   \n",
    "   11-How many genres we have in our data?\n",
    "   \n",
    "   12-Visualize the count of the most 15 common ones.\n",
    "   \n",
    "   13-The most common genre.\n",
    "   \n",
    "   14-Number of movies that earned revenue more than its budget\n",
    "   \n",
    "   15-Number of movies that earned revenue less than its budget\n",
    "   \n",
    "   16-Does the budget of the movie affect the ratings it recieves\n",
    "   \n",
    "   17-keywords that were repeated in many movies\n",
    "   \n",
    "   18-Do movies that use those common words get good ratings ?\n",
    "   "
   ]
  },
  {
   "cell_type": "markdown",
   "id": "a4d2649b",
   "metadata": {},
   "source": [
    "Data WRANGLING\n",
    "--------------------------"
   ]
  },
  {
   "cell_type": "markdown",
   "id": "3dbcd6a9",
   "metadata": {},
   "source": [
    "The fisrt step of the data wrangling process is to gather the data .\n",
    "Fortunately,We have our data gathered in a csv file . So , let's move to data Assessing and get a strong grasp of our data."
   ]
  },
  {
   "cell_type": "code",
   "execution_count": 3,
   "id": "a07694da",
   "metadata": {},
   "outputs": [
    {
     "data": {
      "text/html": [
       "<div>\n",
       "<style scoped>\n",
       "    .dataframe tbody tr th:only-of-type {\n",
       "        vertical-align: middle;\n",
       "    }\n",
       "\n",
       "    .dataframe tbody tr th {\n",
       "        vertical-align: top;\n",
       "    }\n",
       "\n",
       "    .dataframe thead th {\n",
       "        text-align: right;\n",
       "    }\n",
       "</style>\n",
       "<table border=\"1\" class=\"dataframe\">\n",
       "  <thead>\n",
       "    <tr style=\"text-align: right;\">\n",
       "      <th></th>\n",
       "      <th>id</th>\n",
       "      <th>popularity</th>\n",
       "      <th>budget</th>\n",
       "      <th>revenue</th>\n",
       "      <th>runtime</th>\n",
       "      <th>vote_count</th>\n",
       "      <th>vote_average</th>\n",
       "      <th>release_year</th>\n",
       "      <th>budget_adj</th>\n",
       "      <th>revenue_adj</th>\n",
       "    </tr>\n",
       "  </thead>\n",
       "  <tbody>\n",
       "    <tr>\n",
       "      <th>count</th>\n",
       "      <td>10866.000000</td>\n",
       "      <td>10866.000000</td>\n",
       "      <td>1.086600e+04</td>\n",
       "      <td>1.086600e+04</td>\n",
       "      <td>10866.000000</td>\n",
       "      <td>10866.000000</td>\n",
       "      <td>10866.000000</td>\n",
       "      <td>10866.000000</td>\n",
       "      <td>1.086600e+04</td>\n",
       "      <td>1.086600e+04</td>\n",
       "    </tr>\n",
       "    <tr>\n",
       "      <th>mean</th>\n",
       "      <td>66064.177434</td>\n",
       "      <td>0.646441</td>\n",
       "      <td>1.462570e+07</td>\n",
       "      <td>3.982332e+07</td>\n",
       "      <td>102.070863</td>\n",
       "      <td>217.389748</td>\n",
       "      <td>5.974922</td>\n",
       "      <td>2001.322658</td>\n",
       "      <td>1.755104e+07</td>\n",
       "      <td>5.136436e+07</td>\n",
       "    </tr>\n",
       "    <tr>\n",
       "      <th>std</th>\n",
       "      <td>92130.136561</td>\n",
       "      <td>1.000185</td>\n",
       "      <td>3.091321e+07</td>\n",
       "      <td>1.170035e+08</td>\n",
       "      <td>31.381405</td>\n",
       "      <td>575.619058</td>\n",
       "      <td>0.935142</td>\n",
       "      <td>12.812941</td>\n",
       "      <td>3.430616e+07</td>\n",
       "      <td>1.446325e+08</td>\n",
       "    </tr>\n",
       "    <tr>\n",
       "      <th>min</th>\n",
       "      <td>5.000000</td>\n",
       "      <td>0.000065</td>\n",
       "      <td>0.000000e+00</td>\n",
       "      <td>0.000000e+00</td>\n",
       "      <td>0.000000</td>\n",
       "      <td>10.000000</td>\n",
       "      <td>1.500000</td>\n",
       "      <td>1960.000000</td>\n",
       "      <td>0.000000e+00</td>\n",
       "      <td>0.000000e+00</td>\n",
       "    </tr>\n",
       "    <tr>\n",
       "      <th>25%</th>\n",
       "      <td>10596.250000</td>\n",
       "      <td>0.207583</td>\n",
       "      <td>0.000000e+00</td>\n",
       "      <td>0.000000e+00</td>\n",
       "      <td>90.000000</td>\n",
       "      <td>17.000000</td>\n",
       "      <td>5.400000</td>\n",
       "      <td>1995.000000</td>\n",
       "      <td>0.000000e+00</td>\n",
       "      <td>0.000000e+00</td>\n",
       "    </tr>\n",
       "    <tr>\n",
       "      <th>50%</th>\n",
       "      <td>20669.000000</td>\n",
       "      <td>0.383856</td>\n",
       "      <td>0.000000e+00</td>\n",
       "      <td>0.000000e+00</td>\n",
       "      <td>99.000000</td>\n",
       "      <td>38.000000</td>\n",
       "      <td>6.000000</td>\n",
       "      <td>2006.000000</td>\n",
       "      <td>0.000000e+00</td>\n",
       "      <td>0.000000e+00</td>\n",
       "    </tr>\n",
       "    <tr>\n",
       "      <th>75%</th>\n",
       "      <td>75610.000000</td>\n",
       "      <td>0.713817</td>\n",
       "      <td>1.500000e+07</td>\n",
       "      <td>2.400000e+07</td>\n",
       "      <td>111.000000</td>\n",
       "      <td>145.750000</td>\n",
       "      <td>6.600000</td>\n",
       "      <td>2011.000000</td>\n",
       "      <td>2.085325e+07</td>\n",
       "      <td>3.369710e+07</td>\n",
       "    </tr>\n",
       "    <tr>\n",
       "      <th>max</th>\n",
       "      <td>417859.000000</td>\n",
       "      <td>32.985763</td>\n",
       "      <td>4.250000e+08</td>\n",
       "      <td>2.781506e+09</td>\n",
       "      <td>900.000000</td>\n",
       "      <td>9767.000000</td>\n",
       "      <td>9.200000</td>\n",
       "      <td>2015.000000</td>\n",
       "      <td>4.250000e+08</td>\n",
       "      <td>2.827124e+09</td>\n",
       "    </tr>\n",
       "  </tbody>\n",
       "</table>\n",
       "</div>"
      ],
      "text/plain": [
       "                  id    popularity        budget       revenue       runtime  \\\n",
       "count   10866.000000  10866.000000  1.086600e+04  1.086600e+04  10866.000000   \n",
       "mean    66064.177434      0.646441  1.462570e+07  3.982332e+07    102.070863   \n",
       "std     92130.136561      1.000185  3.091321e+07  1.170035e+08     31.381405   \n",
       "min         5.000000      0.000065  0.000000e+00  0.000000e+00      0.000000   \n",
       "25%     10596.250000      0.207583  0.000000e+00  0.000000e+00     90.000000   \n",
       "50%     20669.000000      0.383856  0.000000e+00  0.000000e+00     99.000000   \n",
       "75%     75610.000000      0.713817  1.500000e+07  2.400000e+07    111.000000   \n",
       "max    417859.000000     32.985763  4.250000e+08  2.781506e+09    900.000000   \n",
       "\n",
       "         vote_count  vote_average  release_year    budget_adj   revenue_adj  \n",
       "count  10866.000000  10866.000000  10866.000000  1.086600e+04  1.086600e+04  \n",
       "mean     217.389748      5.974922   2001.322658  1.755104e+07  5.136436e+07  \n",
       "std      575.619058      0.935142     12.812941  3.430616e+07  1.446325e+08  \n",
       "min       10.000000      1.500000   1960.000000  0.000000e+00  0.000000e+00  \n",
       "25%       17.000000      5.400000   1995.000000  0.000000e+00  0.000000e+00  \n",
       "50%       38.000000      6.000000   2006.000000  0.000000e+00  0.000000e+00  \n",
       "75%      145.750000      6.600000   2011.000000  2.085325e+07  3.369710e+07  \n",
       "max     9767.000000      9.200000   2015.000000  4.250000e+08  2.827124e+09  "
      ]
     },
     "execution_count": 3,
     "metadata": {},
     "output_type": "execute_result"
    }
   ],
   "source": [
    "df.describe() "
   ]
  },
  {
   "cell_type": "markdown",
   "id": "6448d10a",
   "metadata": {},
   "source": [
    "Notes:\n",
    "---------\n",
    "    1-According to the release_year\tanalysis ,the movies are between 1960 and 2015.\n",
    "       (75% of our data before year 2011 )\n",
    "    \n",
    "    2-According to the vote_average analysis, the max vote is 9.2 and the min is 1.5 only.\n",
    "      (the average voting of the movies provided is 5.97)\n",
    "    \n",
    "    3-According to the runtime analysis, the average runtime is 102 mins.\n",
    "    4-According to the popularity analysis ,our data has an average of popularity of 0.64. \n",
    "    "
   ]
  },
  {
   "cell_type": "code",
   "execution_count": 4,
   "id": "87efedf4",
   "metadata": {},
   "outputs": [
    {
     "data": {
      "text/plain": [
       "(10866, 21)"
      ]
     },
     "execution_count": 4,
     "metadata": {},
     "output_type": "execute_result"
    }
   ],
   "source": [
    "df.shape  \n"
   ]
  },
  {
   "cell_type": "markdown",
   "id": "62b9fe40",
   "metadata": {},
   "source": [
    "we have 10866 movie sample and 21 columns in our data ."
   ]
  },
  {
   "cell_type": "code",
   "execution_count": 5,
   "id": "63bbf0ee",
   "metadata": {},
   "outputs": [
    {
     "name": "stdout",
     "output_type": "stream",
     "text": [
      "<class 'pandas.core.frame.DataFrame'>\n",
      "RangeIndex: 10866 entries, 0 to 10865\n",
      "Data columns (total 21 columns):\n",
      " #   Column                Non-Null Count  Dtype  \n",
      "---  ------                --------------  -----  \n",
      " 0   id                    10866 non-null  int64  \n",
      " 1   imdb_id               10856 non-null  object \n",
      " 2   popularity            10866 non-null  float64\n",
      " 3   budget                10866 non-null  int64  \n",
      " 4   revenue               10866 non-null  int64  \n",
      " 5   original_title        10866 non-null  object \n",
      " 6   cast                  10790 non-null  object \n",
      " 7   homepage              2936 non-null   object \n",
      " 8   director              10822 non-null  object \n",
      " 9   tagline               8042 non-null   object \n",
      " 10  keywords              9373 non-null   object \n",
      " 11  overview              10862 non-null  object \n",
      " 12  runtime               10866 non-null  int64  \n",
      " 13  genres                10843 non-null  object \n",
      " 14  production_companies  9836 non-null   object \n",
      " 15  release_date          10866 non-null  object \n",
      " 16  vote_count            10866 non-null  int64  \n",
      " 17  vote_average          10866 non-null  float64\n",
      " 18  release_year          10866 non-null  int64  \n",
      " 19  budget_adj            10866 non-null  float64\n",
      " 20  revenue_adj           10866 non-null  float64\n",
      "dtypes: float64(4), int64(6), object(11)\n",
      "memory usage: 1.7+ MB\n"
     ]
    }
   ],
   "source": [
    "df.info()"
   ]
  },
  {
   "cell_type": "markdown",
   "id": "990f50c9",
   "metadata": {},
   "source": [
    "Notes:\n",
    "--------\n",
    "    1-Columns [\"homepage\",\"tagline\", \"keywords\" ,\"production_companies\" ,\"imdb_id\",\"cast\",\"genres\"\n",
    "             ,\"overview\",\"director\"] have null values --> 9 columns.\n",
    "    \n",
    "    2-A column like homepage ,most of its values are missing So i'll drop it in the data cleaning              part\n",
    "  "
   ]
  },
  {
   "cell_type": "code",
   "execution_count": 6,
   "id": "7590ac47",
   "metadata": {},
   "outputs": [
    {
     "data": {
      "text/plain": [
       "id                        int64\n",
       "imdb_id                  object\n",
       "popularity              float64\n",
       "budget                    int64\n",
       "revenue                   int64\n",
       "original_title           object\n",
       "cast                     object\n",
       "homepage                 object\n",
       "director                 object\n",
       "tagline                  object\n",
       "keywords                 object\n",
       "overview                 object\n",
       "runtime                   int64\n",
       "genres                   object\n",
       "production_companies     object\n",
       "release_date             object\n",
       "vote_count                int64\n",
       "vote_average            float64\n",
       "release_year              int64\n",
       "budget_adj              float64\n",
       "revenue_adj             float64\n",
       "dtype: object"
      ]
     },
     "execution_count": 6,
     "metadata": {},
     "output_type": "execute_result"
    }
   ],
   "source": [
    "df.dtypes"
   ]
  },
  {
   "cell_type": "markdown",
   "id": "ee1aaa48",
   "metadata": {},
   "source": [
    "Notes:\n",
    "--------\n",
    "   -Most of our data is object or string data."
   ]
  },
  {
   "cell_type": "markdown",
   "id": "31dff8a3",
   "metadata": {},
   "source": [
    "# Data cleaning part\n",
    "--------------------------- "
   ]
  },
  {
   "cell_type": "code",
   "execution_count": 7,
   "id": "2fe52e92",
   "metadata": {},
   "outputs": [
    {
     "data": {
      "text/plain": [
       "9"
      ]
     },
     "execution_count": 7,
     "metadata": {},
     "output_type": "execute_result"
    }
   ],
   "source": [
    "sum(df.isna().any()) #nine columns with null values"
   ]
  },
  {
   "cell_type": "code",
   "execution_count": 8,
   "id": "25f775bc",
   "metadata": {},
   "outputs": [
    {
     "data": {
      "text/plain": [
       "1"
      ]
     },
     "execution_count": 8,
     "metadata": {},
     "output_type": "execute_result"
    }
   ],
   "source": [
    "df.duplicated().sum()"
   ]
  },
  {
   "cell_type": "markdown",
   "id": "04fcce4c",
   "metadata": {},
   "source": [
    "Notes:\n",
    "----------\n",
    "-we have nine columns with missing data. (Using the info function before, we know how many missing values are in each column)\n",
    "\n",
    "-we have one duplicated row in our data."
   ]
  },
  {
   "cell_type": "code",
   "execution_count": 9,
   "id": "705d1cea",
   "metadata": {},
   "outputs": [],
   "source": [
    "#Dropping columns that would be out of use and have most null values\n",
    "df.drop(columns=[\"homepage\",\"tagline\"], inplace=True )"
   ]
  },
  {
   "cell_type": "code",
   "execution_count": 10,
   "id": "6f61fc24",
   "metadata": {},
   "outputs": [
    {
     "data": {
      "text/plain": [
       "(10866, 19)"
      ]
     },
     "execution_count": 10,
     "metadata": {},
     "output_type": "execute_result"
    }
   ],
   "source": [
    "#confirming columns were dropped\n",
    "df.shape"
   ]
  },
  {
   "cell_type": "code",
   "execution_count": 11,
   "id": "424a1956",
   "metadata": {},
   "outputs": [],
   "source": [
    "# Now, let's drop null values\n",
    "df.dropna(inplace=True)"
   ]
  },
  {
   "cell_type": "code",
   "execution_count": 12,
   "id": "bf842263",
   "metadata": {},
   "outputs": [],
   "source": [
    "#Dropping duplicates\n",
    "df.drop_duplicates(inplace=True)"
   ]
  },
  {
   "cell_type": "code",
   "execution_count": 13,
   "id": "49071c5a",
   "metadata": {},
   "outputs": [
    {
     "data": {
      "text/plain": [
       "(8664, 19)"
      ]
     },
     "execution_count": 13,
     "metadata": {},
     "output_type": "execute_result"
    }
   ],
   "source": [
    "df.shape"
   ]
  },
  {
   "cell_type": "code",
   "execution_count": 14,
   "id": "9a09b5c7",
   "metadata": {},
   "outputs": [
    {
     "data": {
      "text/plain": [
       "count    8664.000000\n",
       "mean      103.829986\n",
       "std        26.191973\n",
       "min         0.000000\n",
       "25%        91.000000\n",
       "50%       100.000000\n",
       "75%       113.000000\n",
       "max       705.000000\n",
       "Name: runtime, dtype: float64"
      ]
     },
     "execution_count": 14,
     "metadata": {},
     "output_type": "execute_result"
    }
   ],
   "source": [
    "# let's work on outliers\n",
    "df[\"runtime\"].describe()"
   ]
  },
  {
   "cell_type": "code",
   "execution_count": 15,
   "id": "8ef6c33f",
   "metadata": {},
   "outputs": [
    {
     "data": {
      "text/plain": [
       "7"
      ]
     },
     "execution_count": 15,
     "metadata": {},
     "output_type": "execute_result"
    }
   ],
   "source": [
    "#As shown , the min for runtime is 0 , let's see how many we have in our data\n",
    "zero_runtime=df[df[\"runtime\"]==0]\n",
    "len(zero_runtime)"
   ]
  },
  {
   "cell_type": "markdown",
   "id": "d75ee9b8",
   "metadata": {},
   "source": [
    "we have 7 movies with runtime equals zero"
   ]
  },
  {
   "cell_type": "code",
   "execution_count": 16,
   "id": "9d5287a3",
   "metadata": {},
   "outputs": [],
   "source": [
    "#removing outliers with runtime of zero.\n",
    "list_=df.index[df[\"runtime\"]==0].tolist()\n",
    "df.drop(index=list_, axis=0, inplace =True)"
   ]
  },
  {
   "cell_type": "code",
   "execution_count": 17,
   "id": "75d98049",
   "metadata": {},
   "outputs": [
    {
     "data": {
      "text/plain": [
       "(8657, 19)"
      ]
     },
     "execution_count": 17,
     "metadata": {},
     "output_type": "execute_result"
    }
   ],
   "source": [
    "# confirming the drop\n",
    "df.shape"
   ]
  },
  {
   "cell_type": "markdown",
   "id": "fa485c9f",
   "metadata": {},
   "source": [
    "It's not applicable that a movie is with zero budget or revenue.\n",
    "so let\"s see how many of them in our data\n"
   ]
  },
  {
   "cell_type": "code",
   "execution_count": 18,
   "id": "41a42e6a",
   "metadata": {},
   "outputs": [
    {
     "data": {
      "text/plain": [
       "3932"
      ]
     },
     "execution_count": 18,
     "metadata": {},
     "output_type": "execute_result"
    }
   ],
   "source": [
    "len(df[df[\"budget\"]==0])"
   ]
  },
  {
   "cell_type": "code",
   "execution_count": 19,
   "id": "242287b1",
   "metadata": {},
   "outputs": [
    {
     "data": {
      "text/plain": [
       "4121"
      ]
     },
     "execution_count": 19,
     "metadata": {},
     "output_type": "execute_result"
    }
   ],
   "source": [
    "len(df[df[\"revenue\"]==0])"
   ]
  },
  {
   "cell_type": "markdown",
   "id": "716de6d3",
   "metadata": {},
   "source": [
    "if we dropped them , we'll lose most of our data .So , we'll keep them"
   ]
  },
  {
   "cell_type": "markdown",
   "id": "968a87d2",
   "metadata": {},
   "source": [
    "# Exploring Data"
   ]
  },
  {
   "cell_type": "code",
   "execution_count": 20,
   "id": "cea198bb",
   "metadata": {},
   "outputs": [
    {
     "data": {
      "image/png": "[encoded data removed]",
      "text/plain": [
       "<Figure size 720x720 with 12 Axes>"
      ]
     },
     "metadata": {
      "needs_background": "light"
     },
     "output_type": "display_data"
    }
   ],
   "source": [
    "# visualizing using histogram\n",
    "df.hist(figsize=(10,10));"
   ]
  },
  {
   "cell_type": "markdown",
   "id": "b2b337e1",
   "metadata": {},
   "source": [
    "Notes\n",
    "------\n",
    "  1- release_year data is left skewed .We can see that most of the movies are after 2000.\n",
    "  \n",
    "  2- the vote average is between 2 and 8. "
   ]
  },
  {
   "cell_type": "code",
   "execution_count": 21,
   "id": "08bebe8a",
   "metadata": {},
   "outputs": [
    {
     "data": {
      "text/plain": [
       "<AxesSubplot:>"
      ]
     },
     "execution_count": 21,
     "metadata": {},
     "output_type": "execute_result"
    },
    {
     "data": {
      "image/png": "[encoded data removed]",
      "text/plain": [
       "<Figure size 432x288 with 2 Axes>"
      ]
     },
     "metadata": {
      "needs_background": "light"
     },
     "output_type": "display_data"
    }
   ],
   "source": [
    "#Let's visualize correlation between columns\n",
    "sns.heatmap(df.corr(),cbar=True,linewidths=.8)"
   ]
  },
  {
   "cell_type": "markdown",
   "id": "0cae42cc",
   "metadata": {},
   "source": [
    "Notes\n",
    "------\n",
    "  -As shown,there is a strong correlation between popularity and budget,revenue.\n",
    "  \n",
    "  -As shown,there is a strong correlation between budget and revenue.\n"
   ]
  },
  {
   "cell_type": "code",
   "execution_count": 55,
   "id": "00abb1e5",
   "metadata": {},
   "outputs": [
    {
     "data": {
      "image/png": "[encoded data removed]",
      "text/plain": [
       "<Figure size 640x480 with 1 Axes>"
      ]
     },
     "metadata": {
      "needs_background": "light"
     },
     "output_type": "display_data"
    }
   ],
   "source": [
    "# plotting correlation between  popularity and revenue..\n",
    "from matplotlib.pyplot import figure\n",
    "plt.figure\n",
    "figure(figsize=(8,6), dpi=80)\n",
    "sns.regplot(x=df[\"popularity\"] , y=df[\"revenue\"] )\n",
    "plt.title('Relation between popularity and revenue'.title(),\n",
    "               fontsize = 14, weight = \"bold\")\n",
    "plt.legend(['Revenu $ '])\n",
    "plt.grid()\n",
    "plt.show()"
   ]
  },
  {
   "cell_type": "markdown",
   "id": "c143ec1e",
   "metadata": {},
   "source": [
    "let's see whether the month the movie released in helps with gaining more revenue\n"
   ]
  },
  {
   "cell_type": "code",
   "execution_count": 23,
   "id": "360b5c45",
   "metadata": {},
   "outputs": [],
   "source": [
    "#1- First , we need to convert the release_year column to date\n",
    "df[\"release_date\"]=pd.to_datetime(df[\"release_date\"])"
   ]
  },
  {
   "cell_type": "code",
   "execution_count": 56,
   "id": "4e99c925",
   "metadata": {},
   "outputs": [
    {
     "data": {
      "image/png": "[encoded data removed]",
      "text/plain": [
       "<Figure size 640x480 with 1 Axes>"
      ]
     },
     "metadata": {
      "needs_background": "light"
     },
     "output_type": "display_data"
    }
   ],
   "source": [
    "#Visualizing the relation between month and revenue\n",
    "figure(figsize=(8, 6), dpi=80)\n",
    "x=df[\"release_date\"].dt.month\n",
    "y=df[\"revenue\"] \n",
    "plt.bar(x,y)\n",
    "plt.xlabel('Released month'.title(),\n",
    "               fontsize = 14, weight = \"bold\")\n",
    "plt.ylabel('Revenue'.title(),\n",
    "               fontsize = 14, weight = \"bold\")\n",
    "plt.legend(['Revenu $'])\n",
    "plt.grid()\n",
    "plt.show()"
   ]
  },
  {
   "cell_type": "markdown",
   "id": "3172c635",
   "metadata": {},
   "source": [
    "Notes\n",
    "------\n",
    "\n",
    "As shown , movies released in months december and june get higher revenue. So , these are common seasons for movies. "
   ]
  },
  {
   "cell_type": "markdown",
   "id": "62421391",
   "metadata": {},
   "source": [
    "Q:Directors with largest number of movies?"
   ]
  },
  {
   "cell_type": "code",
   "execution_count": 25,
   "id": "0fce3ef7",
   "metadata": {},
   "outputs": [
    {
     "data": {
      "text/plain": [
       "3946"
      ]
     },
     "execution_count": 25,
     "metadata": {},
     "output_type": "execute_result"
    }
   ],
   "source": [
    "#First , let's see how many directors we have \n",
    "df[\"director\"].unique().size"
   ]
  },
  {
   "cell_type": "markdown",
   "id": "05e7fe6c",
   "metadata": {},
   "source": [
    "we have 3946 director in our data"
   ]
  },
  {
   "cell_type": "code",
   "execution_count": 41,
   "id": "7e55bd8d",
   "metadata": {},
   "outputs": [],
   "source": [
    "#function for finding and visualizing most common elements in our data like directors\n",
    "def common_elements(data , x, y , title , ylabel , xlabel):\n",
    "    fig, ax = plt.subplots(figsize=(10,8))\n",
    "\n",
    "    #Appling counter to get number of actors n then get the most common with the most_common function.\n",
    "    lst = Counter(data).most_common(5)\n",
    "    df2 = pd.DataFrame(lst, columns=[x,y])\n",
    "    df2.plot.bar(x,y, ax=ax)\n",
    "    plt.title(title.title(),\n",
    "               fontsize = 14, weight = \"bold\")\n",
    "    plt.ylabel(ylabel.title(),\n",
    "               fontsize = 10, weight = \"bold\")\n",
    "    plt.xlabel(xlabel.title(),\n",
    "               fontsize = 10, weight = \"bold\")\n",
    "    plt.grid()\n",
    "    plt.show()"
   ]
  },
  {
   "cell_type": "code",
   "execution_count": 42,
   "id": "334ac47e",
   "metadata": {},
   "outputs": [
    {
     "data": {
      "image/png": "[encoded data removed]",
      "text/plain": [
       "<Figure size 720x576 with 1 Axes>"
      ]
     },
     "metadata": {
      "needs_background": "light"
     },
     "output_type": "display_data"
    }
   ],
   "source": [
    "#visualizing using bar chart 5 common directors.\n",
    "directors = pd.Series(df[\"director\"])\n",
    "\n",
    "#applying common_elements function\n",
    "common_elements (directors ,'director' ,'Count' ,'5 Most common directors',\n",
    "              'movies count' ,'director name')\n",
    "\n"
   ]
  },
  {
   "cell_type": "markdown",
   "id": "260388ce",
   "metadata": {},
   "source": [
    "Notes\n",
    "------\n",
    "\n",
    "we can see that Woody Allen directed 40 movie (the largest number of movies directed by the same director.)"
   ]
  },
  {
   "cell_type": "markdown",
   "id": "0522a1d7",
   "metadata": {},
   "source": [
    "Q: Actors who've been in the most movies?"
   ]
  },
  {
   "cell_type": "code",
   "execution_count": 43,
   "id": "93dd1291",
   "metadata": {},
   "outputs": [
    {
     "data": {
      "image/png": "[encoded data removed]",
      "text/plain": [
       "<Figure size 720x576 with 1 Axes>"
      ]
     },
     "metadata": {
      "needs_background": "light"
     },
     "output_type": "display_data"
    }
   ],
   "source": [
    "# visualizing using bar chart to see the common 5 actors\n",
    "\n",
    "#fisrt , we have to split the cast column and add to the series\n",
    "actors = pd.Series(' '.join(df[\"cast\"]).split('|')) \n",
    "#applying common_elements function\n",
    "common_elements (actors ,'actor' ,'Count' ,'5 Most common actors',\n",
    "              'movies count' ,'actor name')"
   ]
  },
  {
   "cell_type": "markdown",
   "id": "9f5ba707",
   "metadata": {},
   "source": [
    "-We can see that Susan and William played almost in 30 movies."
   ]
  },
  {
   "cell_type": "code",
   "execution_count": 44,
   "id": "f56c3ec7",
   "metadata": {},
   "outputs": [
    {
     "data": {
      "text/plain": [
       "1783"
      ]
     },
     "execution_count": 44,
     "metadata": {},
     "output_type": "execute_result"
    }
   ],
   "source": [
    "#let's see how many genres we have in our data\n",
    "df.genres.unique().size"
   ]
  },
  {
   "cell_type": "code",
   "execution_count": 45,
   "id": "709ebaae",
   "metadata": {},
   "outputs": [
    {
     "data": {
      "image/png": "[encoded data removed]",
      "text/plain": [
       "<Figure size 720x576 with 1 Axes>"
      ]
     },
     "metadata": {
      "needs_background": "light"
     },
     "output_type": "display_data"
    }
   ],
   "source": [
    "# Visualizing MOST common Genres\n",
    "\n",
    "#fisrt , we have to split the cast column and add to the series\n",
    "genres = pd.Series(' '.join(df[\"genres\"]).split('|'))\n",
    "\n",
    "#applying common_elements function\n",
    "common_elements (genres ,'genre' ,'Count' ,'5 Most common genres',\n",
    "              ' count' ,'genre name')\n"
   ]
  },
  {
   "cell_type": "markdown",
   "id": "86999dab",
   "metadata": {},
   "source": [
    "-As shown , Drama is the most common genre"
   ]
  },
  {
   "cell_type": "code",
   "execution_count": 46,
   "id": "fcff475a",
   "metadata": {},
   "outputs": [
    {
     "data": {
      "text/plain": [
       "3551"
      ]
     },
     "execution_count": 46,
     "metadata": {},
     "output_type": "execute_result"
    }
   ],
   "source": [
    "#number of movies that earned revenue more than its budget\n",
    "more_revenue=df[df[\"budget\"]<df[\"revenue\"]]\n",
    "len(more_revenue)"
   ]
  },
  {
   "cell_type": "code",
   "execution_count": 47,
   "id": "61b659bf",
   "metadata": {},
   "outputs": [
    {
     "data": {
      "text/plain": [
       "2032"
      ]
     },
     "execution_count": 47,
     "metadata": {},
     "output_type": "execute_result"
    }
   ],
   "source": [
    "#number of movies that earned revenue less than its budget\n",
    "less_revenue=df[df[\"budget\"]>df[\"revenue\"]]\n",
    "len(less_revenue)"
   ]
  },
  {
   "cell_type": "markdown",
   "id": "6750e916",
   "metadata": {},
   "source": [
    "Q:  Does the budget of the movie affect the ratings it recieves"
   ]
  },
  {
   "cell_type": "code",
   "execution_count": 33,
   "id": "455377a2",
   "metadata": {},
   "outputs": [
    {
     "data": {
      "text/plain": [
       "count    8.657000e+03\n",
       "mean     1.772741e+07\n",
       "std      3.358639e+07\n",
       "min      0.000000e+00\n",
       "25%      0.000000e+00\n",
       "50%      1.500000e+06\n",
       "75%      2.100000e+07\n",
       "max      4.250000e+08\n",
       "Name: budget, dtype: float64"
      ]
     },
     "execution_count": 33,
     "metadata": {},
     "output_type": "execute_result"
    }
   ],
   "source": [
    "df[\"budget\"].describe()"
   ]
  },
  {
   "cell_type": "code",
   "execution_count": 34,
   "id": "ec4f8fa5",
   "metadata": {},
   "outputs": [],
   "source": [
    "#getting movies with budget higher or less the mean\n",
    "more_df=df[df[\"budget\"]>1.772741e+07]\n",
    "less_df=df[df[\"budget\"]<1.772741e+07]"
   ]
  },
  {
   "cell_type": "code",
   "execution_count": 35,
   "id": "7d75d6aa",
   "metadata": {},
   "outputs": [],
   "source": [
    "#getting the mean of the vote average for those dataframes\n",
    "mean_less=less_df[\"vote_average\"].unique().mean()\n",
    "mean_more=more_df[\"vote_average\"].unique().mean()"
   ]
  },
  {
   "cell_type": "code",
   "execution_count": 52,
   "id": "968fc0a4",
   "metadata": {},
   "outputs": [
    {
     "data": {
      "text/plain": [
       "Text(0.5, 1.0, 'Relation Between Budget And Average Rating')"
      ]
     },
     "execution_count": 52,
     "metadata": {},
     "output_type": "execute_result"
    },
    {
     "data": {
      "image/png": "[encoded data removed]",
      "text/plain": [
       "<Figure size 640x480 with 1 Axes>"
      ]
     },
     "metadata": {
      "needs_background": "light"
     },
     "output_type": "display_data"
    }
   ],
   "source": [
    "#visualizing the mean of the votes for those movies \n",
    "figure(figsize=(8, 6), dpi=80)\n",
    "locations=[1,2]\n",
    "values=[mean_more,mean_less]\n",
    "colors=[\"red\",\"black\"]\n",
    "plt.bar(locations,values,color=colors,tick_label=[\"higher budget\",\"low budget\"])\n",
    "plt.ylabel(\" mean of ratings\" , fontsize=18)\n",
    "plt.xlabel(\" Budget\",  fontsize=18)\n",
    "\n",
    "plt.title(\"Relation between budget and average rating\".title(),\n",
    "               fontsize = 10, weight = \"bold\")\n"
   ]
  },
  {
   "cell_type": "markdown",
   "id": "c710b5e6",
   "metadata": {},
   "source": [
    "Notes\n",
    "------\n",
    "\n",
    "\n",
    "-The mean ratings for movies with higher revenue is more than movies with lower revenue"
   ]
  },
  {
   "cell_type": "markdown",
   "id": "02ca113e",
   "metadata": {},
   "source": [
    "Q: sorting the movies according to release_date ."
   ]
  },
  {
   "cell_type": "code",
   "execution_count": null,
   "id": "6e0802e3",
   "metadata": {},
   "outputs": [],
   "source": [
    "sorted_df=df.sort_values(by=['release_date'])\n",
    "sorted_df.head(3)"
   ]
  },
  {
   "cell_type": "code",
   "execution_count": null,
   "id": "f402a757",
   "metadata": {},
   "outputs": [],
   "source": [
    "#genres with maxiam rating\n",
    "df.groupby(df['genres'])['vote_average'].max()"
   ]
  },
  {
   "cell_type": "code",
   "execution_count": null,
   "id": "187db2bb",
   "metadata": {},
   "outputs": [],
   "source": [
    "# keywords\n",
    "df[\"keywords\"].head(2)"
   ]
  },
  {
   "cell_type": "code",
   "execution_count": null,
   "id": "33b3c8b6",
   "metadata": {},
   "outputs": [],
   "source": [
    "# keywords that were repeated in many movies.\n",
    "keywords = pd.Series(' '.join(df[\"keywords\"]).split('|'))\n",
    "\n",
    "#applying common_elements function\n",
    "common_elements (keywords,'keywords' ,'Count' ,'5 Most common keywords',\n",
    "              'keywords count' ,'keyword')\n",
    "\n"
   ]
  },
  {
   "cell_type": "markdown",
   "id": "3bb82390",
   "metadata": {},
   "source": [
    " know that we know the keywords the catch people' attention."
   ]
  },
  {
   "cell_type": "code",
   "execution_count": null,
   "id": "8ce299f6",
   "metadata": {},
   "outputs": [],
   "source": [
    "df[keywords==\"independent film\"][\"vote_average\"].mean()\n"
   ]
  },
  {
   "cell_type": "code",
   "execution_count": null,
   "id": "d41ab8d2",
   "metadata": {},
   "outputs": [],
   "source": [
    "df[keywords==\"independent film\"][\"vote_count\"].sum()"
   ]
  },
  {
   "cell_type": "code",
   "execution_count": null,
   "id": "37adf22f",
   "metadata": {},
   "outputs": [],
   "source": [
    "df[keywords==\"sex\"][\"vote_average\"].mean()"
   ]
  },
  {
   "cell_type": "code",
   "execution_count": null,
   "id": "c31aac02",
   "metadata": {},
   "outputs": [],
   "source": [
    "df[keywords==\"sex\"][\"vote_count\"].sum()"
   ]
  },
  {
   "cell_type": "markdown",
   "id": "dc5483a2",
   "metadata": {},
   "source": [
    "From this analysis , we can conclude :\n",
    "\n",
    "  -movies that use those common words get high number of votes and good ratings as well.  "
   ]
  },
  {
   "cell_type": "markdown",
   "id": "9f88bf3a",
   "metadata": {},
   "source": [
    "Conclusion\n",
    "-----------------\n",
    ".Summarizing the analysis of our dataset :-\n",
    "\n",
    "   (1) description of data .\n",
    "   \n",
    "   (2) Understanding of data as metioned in the notes above.\n",
    "      \n",
    "   (4) Cleaning undesirable data .\n",
    "   \n",
    "     ( I will elaborate more on this in the limitations section down below.)\n",
    "     \n",
    "   (3) Visualazing our data and some interesting findings from it like:\n",
    "   \n",
    "      1-Drama is the most common genre.\n",
    "      \n",
    "      2-Movies released in months december and june get higher revenue.\n",
    "      \n",
    "      3-Woody Allen directed largest number of movies .\n",
    "      \n",
    "      4-The mean ratings for movies with higher revenue is more than movies with lower revenue.\n",
    "      \n",
    "      5-Movies that use those common words get high number of votes and good ratings as well."
   ]
  },
  {
   "cell_type": "code",
   "execution_count": null,
   "id": "be237140",
   "metadata": {},
   "outputs": [],
   "source": []
  },
  {
   "cell_type": "markdown",
   "id": "a770b178",
   "metadata": {},
   "source": [
    "Limitations\n",
    "-----------------\n",
    "  (1)The current dataset have many missing records.\n",
    "  \n",
    "      (If we ignored them , we would have lost most of our data.)\n",
    "  \n",
    "  (2)There are many columns that provided useless info about out data.\n",
    "  \n",
    "     (the results would have been clearer if we had related fields.)\n",
    "     \n",
    "  (3)There are wrong values taken while recording the data . \n",
    "     \n",
    "     (for example, we have movies with runtime 0 or 900 mintues! . that's impossible. of course,\n",
    "     it has affected oue results)\n"
   ]
  },
  {
   "cell_type": "code",
   "execution_count": null,
   "id": "203e6092",
   "metadata": {},
   "outputs": [],
   "source": []
  }
 ],
 "metadata": {
  "kernelspec": {
   "display_name": "Python 3 (ipykernel)",
   "language": "python",
   "name": "python3"
  },
  "language_info": {
   "codemirror_mode": {
    "name": "ipython",
    "version": 3
   },
   "file_extension": ".py",
   "mimetype": "text/x-python",
   "name": "python",
   "nbconvert_exporter": "python",
   "pygments_lexer": "ipython3",
   "version": "3.10.1"
  }
 },
 "nbformat": 4,
 "nbformat_minor": 5
}
